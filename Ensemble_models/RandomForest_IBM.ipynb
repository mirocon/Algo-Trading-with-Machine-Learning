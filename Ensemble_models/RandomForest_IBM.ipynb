{
 "cells": [
  {
   "cell_type": "markdown",
   "metadata": {},
   "source": [
    "## Random Forest"
   ]
  },
  {
   "cell_type": "code",
   "execution_count": 1,
   "metadata": {},
   "outputs": [],
   "source": [
    "from sklearn.ensemble import RandomForestClassifier\n",
    "import pandas as pd\n",
    "import numpy as np\n",
    "from sklearn.metrics import accuracy_score\n",
    "from sklearn.metrics import log_loss"
   ]
  },
  {
   "cell_type": "markdown",
   "metadata": {},
   "source": [
    "## Data preparation"
   ]
  },
  {
   "cell_type": "code",
   "execution_count": 2,
   "metadata": {},
   "outputs": [
    {
     "name": "stderr",
     "output_type": "stream",
     "text": [
      "c:\\Users\\cosim\\anaconda3\\lib\\site-packages\\pandas\\core\\indexing.py:1732: SettingWithCopyWarning: \n",
      "A value is trying to be set on a copy of a slice from a DataFrame\n",
      "\n",
      "See the caveats in the documentation: https://pandas.pydata.org/pandas-docs/stable/user_guide/indexing.html#returning-a-view-versus-a-copy\n",
      "  self._setitem_single_block(indexer, value, name)\n"
     ]
    }
   ],
   "source": [
    "train = pd.read_excel('IBM_train.xlsx')\n",
    "test = pd.read_excel('IBM_test.xlsx')\n",
    "\n",
    "train.set_index('Date', inplace=True)\n",
    "test.set_index('Date', inplace=True)\n",
    "\n",
    "train = train.fillna(1)\n",
    "test = test.fillna(1)\n",
    "\n",
    "test['direction'] = np.sign(test['Log_Returns']).astype(int)\n",
    "train['direction'] = np.sign(train['Log_Returns']).astype(int)\n",
    "\n",
    "count = 0\n",
    "for i in train['direction']:\n",
    "    if i == 0:\n",
    "        train['direction'].iloc[count] = 1\n",
    "    count += 1\n",
    "\n",
    "count = 0\n",
    "for i in test['direction']:\n",
    "    if i == 0:\n",
    "        test['direction'].iloc[count] = 1\n",
    "    count += 1\n",
    "\n",
    "X_train = train.drop(['Log_Returns','TwoBinaryFeatures_log_reg','TwoBinaryFeatures_gauss_nb','FiveBinaryFeatures_log_reg','FiveBinaryFeatures_svm','FiveDigitizedFeatures_log_reg','direction'], axis=1)\n",
    "y_train = train['direction']\n",
    "\n",
    "X_test = test.drop(['AdjClose','Log_Returns','TwoBinaryFeatures_log_reg','TwoBinaryFeatures_gauss_nb','FiveBinaryFeatures_log_reg','FiveBinaryFeatures_svm','FiveDigitizedFeatures_log_reg','direction'], axis=1)\n",
    "y_test = test['direction']"
   ]
  },
  {
   "cell_type": "markdown",
   "metadata": {},
   "source": [
    "## Model"
   ]
  },
  {
   "cell_type": "code",
   "execution_count": 3,
   "metadata": {},
   "outputs": [
    {
     "data": {
      "text/plain": [
       "RandomForestClassifier()"
      ]
     },
     "execution_count": 3,
     "metadata": {},
     "output_type": "execute_result"
    }
   ],
   "source": [
    "clf = RandomForestClassifier(n_estimators=100)\n",
    "\n",
    "clf.fit(X_train,y_train)"
   ]
  },
  {
   "cell_type": "code",
   "execution_count": 4,
   "metadata": {},
   "outputs": [
    {
     "data": {
      "text/plain": [
       " 1    1964\n",
       "-1    1900\n",
       "Name: direction, dtype: int64"
      ]
     },
     "execution_count": 4,
     "metadata": {},
     "output_type": "execute_result"
    }
   ],
   "source": [
    "y_train.value_counts()"
   ]
  },
  {
   "cell_type": "code",
   "execution_count": 5,
   "metadata": {},
   "outputs": [
    {
     "name": "stdout",
     "output_type": "stream",
     "text": [
      "accuracy train:  0.8566252587991718\n",
      "accuracy test:  0.7986698911729141\n",
      "loss train 4.952039860801777\n",
      "loss test:  6.95375120508448\n"
     ]
    }
   ],
   "source": [
    "y_pred_train = clf.predict(X_train)\n",
    "y_pred_test = clf.predict(X_test)\n",
    "\n",
    "print('accuracy train: ',accuracy_score(y_train,y_pred_train))\n",
    "print('accuracy test: ',accuracy_score(y_test,y_pred_test))\n",
    "print('loss train', log_loss(y_train,y_pred_train))\n",
    "print('loss test: ',log_loss(y_test,y_pred_test))"
   ]
  },
  {
   "cell_type": "code",
   "execution_count": 6,
   "metadata": {},
   "outputs": [
    {
     "data": {
      "text/plain": [
       "Log_Returns       2.094930e+00\n",
       "forest_returns    6.235281e+16\n",
       "dtype: float64"
      ]
     },
     "execution_count": 6,
     "metadata": {},
     "output_type": "execute_result"
    }
   ],
   "source": [
    "train['final_strategy'] = y_pred_train\n",
    "test['final_strategy'] = y_pred_test\n",
    "\n",
    "train['forest_returns'] = train['final_strategy']*train['Log_Returns']\n",
    "\n",
    "strat = train[['Log_Returns', 'forest_returns']].sum().apply(np.exp)\n",
    "strat"
   ]
  },
  {
   "cell_type": "code",
   "execution_count": 7,
   "metadata": {},
   "outputs": [
    {
     "data": {
      "image/png": "[encoded data removed]",
      "text/plain": [
       "<Figure size 720x432 with 1 Axes>"
      ]
     },
     "metadata": {
      "needs_background": "light"
     },
     "output_type": "display_data"
    }
   ],
   "source": [
    "train[['Log_Returns', 'forest_returns']].cumsum().apply(np.exp).plot(figsize=(10, 6));"
   ]
  },
  {
   "cell_type": "code",
   "execution_count": 8,
   "metadata": {},
   "outputs": [
    {
     "data": {
      "text/plain": [
       "AdjClose_pct     0.360670\n",
       "strat_pct       12.879777\n",
       "dtype: float64"
      ]
     },
     "execution_count": 8,
     "metadata": {},
     "output_type": "execute_result"
    }
   ],
   "source": [
    "test['forest_returns'] = test['final_strategy']*test['Log_Returns']\n",
    "test['AdjClose_pct'] = test['AdjClose'].pct_change()\n",
    "test['strat_pct'] = test['AdjClose_pct']*test['final_strategy']\n",
    "strat = test[['AdjClose_pct', 'strat_pct']].sum()\n",
    "strat"
   ]
  },
  {
   "cell_type": "code",
   "execution_count": 9,
   "metadata": {},
   "outputs": [
    {
     "data": {
      "text/plain": [
       "(array([-250.,    0.,  250.,  500.,  750., 1000., 1250., 1500., 1750.]),\n",
       " [Text(-250.0, 0, '18-02-2021'),\n",
       "  Text(0.0, 0, '22-07-2015'),\n",
       "  Text(250.0, 0, '19-07-2016'),\n",
       "  Text(500.0, 0, '17-07-2017'),\n",
       "  Text(750.0, 0, '13-07-2018'),\n",
       "  Text(1000.0, 0, '12-07-2019'),\n",
       "  Text(1250.0, 0, '09-07-2020'),\n",
       "  Text(1500.0, 0, '07-07-2021'),\n",
       "  Text(1750.0, 0, '')])"
      ]
     },
     "execution_count": 9,
     "metadata": {},
     "output_type": "execute_result"
    },
    {
     "data": {
      "image/png": "[encoded data removed]",
      "text/plain": [
       "<Figure size 720x432 with 1 Axes>"
      ]
     },
     "metadata": {
      "needs_background": "light"
     },
     "output_type": "display_data"
    }
   ],
   "source": [
    "import matplotlib.pyplot as plt\n",
    "test['AdjClose_pct'] = test['AdjClose'].pct_change()\n",
    "test['strat_pct'] = test['AdjClose_pct']*test['final_strategy']\n",
    "test.index = pd.to_datetime(test.index).strftime('%d-%m-%Y')\n",
    "test[['AdjClose_pct', 'strat_pct']].cumsum().plot(figsize=(10, 6));\n",
    "plt.xticks(rotation=10)"
   ]
  }
 ],
 "metadata": {
  "interpreter": {
   "hash": "98058f9101deb6c0eefb2f0fa890a55d9f29c9e13ee8b99f338a51181039b879"
  },
  "kernelspec": {
   "display_name": "Python 3.8.12 ('base')",
   "language": "python",
   "name": "python3"
  },
  "language_info": {
   "codemirror_mode": {
    "name": "ipython",
    "version": 3
   },
   "file_extension": ".py",
   "mimetype": "text/x-python",
   "name": "python",
   "nbconvert_exporter": "python",
   "pygments_lexer": "ipython3",
   "version": "3.8.12"
  },
  "orig_nbformat": 4
 },
 "nbformat": 4,
 "nbformat_minor": 2
}
